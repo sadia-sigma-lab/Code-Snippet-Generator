{
  "nbformat": 4,
  "nbformat_minor": 0,
  "metadata": {
    "colab": {
      "provenance": [],
      "authorship_tag": "ABX9TyNal1BbAxcHoOqTzdqYN1Tf",
      "include_colab_link": true
    },
    "kernelspec": {
      "name": "python3",
      "display_name": "Python 3"
    },
    "language_info": {
      "name": "python"
    }
  },
  "cells": [
    {
      "cell_type": "markdown",
      "metadata": {
        "id": "view-in-github",
        "colab_type": "text"
      },
      "source": [
        "<a href=\"https://colab.research.google.com/github/sadia-sigma-lab/Code-Snippet-Generator/blob/master/fine_tunning_llm.ipynb\" target=\"_parent\"><img src=\"https://colab.research.google.com/assets/colab-badge.svg\" alt=\"Open In Colab\"/></a>"
      ]
    },
    {
      "cell_type": "code",
      "execution_count": null,
      "metadata": {
        "id": "Ta8fVpBNH--F"
      },
      "outputs": [],
      "source": [
        "%%capture\n",
        "!pip3 install git+https://github.com/promptslab/LLMTuner"
      ]
    },
    {
      "cell_type": "code",
      "source": [
        "from llmtuner import Tuner, Dataset, Model\n",
        "\n",
        "# Whisper model with parameter-efficient fine-tuning\n",
        "model = Model(\"openai/whisper-small\", use_peft=True)\n",
        "\n",
        "# Create a dataset instance for the audio files\n",
        "dataset = Dataset(dummy_data= True, type_ = 'half')"
      ],
      "metadata": {
        "id": "B5hzYn2SIFEf"
      },
      "execution_count": null,
      "outputs": []
    },
    {
      "cell_type": "code",
      "source": [
        "# Set up the tuner with the model and dataset for fine-tuning\n",
        "tuner = Tuner(model, dataset)\n",
        "\n",
        "# Fine-tune the model\n",
        "trained_model = tuner.fit()"
      ],
      "metadata": {
        "id": "ehBfbhimIHdz"
      },
      "execution_count": null,
      "outputs": []
    },
    {
      "cell_type": "code",
      "source": [
        "# Inference with Fine-tuned model\n",
        "tuner.inference('/content/ad.wav')"
      ],
      "metadata": {
        "id": "da3sa-D4IJ-D"
      },
      "execution_count": null,
      "outputs": []
    },
    {
      "cell_type": "code",
      "source": [
        "# Launch an interactive UI for the fine-tuned model\n",
        "tuner.launch_ui('hi')"
      ],
      "metadata": {
        "id": "sEjks2VaIMsJ"
      },
      "execution_count": null,
      "outputs": []
    }
  ]
}